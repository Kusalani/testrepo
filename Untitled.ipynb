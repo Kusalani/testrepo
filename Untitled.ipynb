{
 "cells": [
  {
   "cell_type": "markdown",
   "id": "37123647-c698-4851-8366-905031f4eb2c",
   "metadata": {},
   "source": [
    "# My Jupyter Notebook on IBM Watson Studio\n"
   ]
  },
  {
   "cell_type": "markdown",
   "id": "aada8e30-888b-4fc0-b44c-367ed1499ec6",
   "metadata": {},
   "source": [
    "**Kusalani Thennakoon**\n"
   ]
  },
  {
   "cell_type": "markdown",
   "id": "40bf2e16-45ed-43b7-adf6-39e97c44042b",
   "metadata": {},
   "source": [
    "Student"
   ]
  },
  {
   "cell_type": "markdown",
   "id": "f9d82ea3-5ac4-47d7-b8b2-1dd0f01d5533",
   "metadata": {},
   "source": [
    "*I am interested in data science because I like analytical side and I'm very curious about business growings*"
   ]
  },
  {
   "cell_type": "markdown",
   "id": "f39c249b-0498-4dec-9883-4216e618786f",
   "metadata": {},
   "source": [
    "### Addition of two numbers ###"
   ]
  },
  {
   "cell_type": "code",
   "execution_count": 2,
   "id": "b8db2b40-0a45-4156-9a09-1c9df49ee96b",
   "metadata": {},
   "outputs": [
    {
     "name": "stdout",
     "output_type": "stream",
     "text": [
      "4\n"
     ]
    }
   ],
   "source": [
    "print(2+2)"
   ]
  },
  {
   "cell_type": "markdown",
   "id": "0708a128-a36b-412a-9f68-d84d1dcf7bff",
   "metadata": {},
   "source": [
    "1.First line  \n",
    "2.Second line  \n",
    "* Unordered sub-list1  \n",
    "* Unordered sub-list2  \n",
    "---------------------  \n"
   ]
  },
  {
   "cell_type": "code",
   "execution_count": null,
   "id": "d911fd76-394a-4997-ac4a-4fe8ad2cc8ec",
   "metadata": {},
   "outputs": [],
   "source": []
  }
 ],
 "metadata": {
  "kernelspec": {
   "display_name": "Python",
   "language": "python",
   "name": "conda-env-python-py"
  },
  "language_info": {
   "codemirror_mode": {
    "name": "ipython",
    "version": 3
   },
   "file_extension": ".py",
   "mimetype": "text/x-python",
   "name": "python",
   "nbconvert_exporter": "python",
   "pygments_lexer": "ipython3",
   "version": "3.7.12"
  }
 },
 "nbformat": 4,
 "nbformat_minor": 5
}
